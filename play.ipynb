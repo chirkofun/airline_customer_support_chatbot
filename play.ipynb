{
 "cells": [
  {
   "cell_type": "code",
   "execution_count": 3,
   "metadata": {},
   "outputs": [
    {
     "name": "stdout",
     "output_type": "stream",
     "text": [
      "Requirement already satisfied: python-dotenv in /Users/dmitriichirkov/Projects/myenv/lib/python3.12/site-packages (1.0.1)\n"
     ]
    }
   ],
   "source": [
    "!pip install python-dotenv\n",
    "!pip install --upgrade --quiet langchain-core\n",
    "!pip install --upgrade --quiet langchain\n",
    "!pip install --upgrade --quiet langchain-community\n",
    "!pip install --upgrade --quiet langchain-together"
   ]
  },
  {
   "cell_type": "code",
   "execution_count": 5,
   "metadata": {},
   "outputs": [
    {
     "data": {
      "text/plain": [
       "AIMessage(content=\"Je t'aime les pommes.\", additional_kwargs={'refusal': None}, response_metadata={'token_usage': {'completion_tokens': 9, 'prompt_tokens': 55, 'total_tokens': 64}, 'model_name': 'meta-llama/Meta-Llama-3.1-8B-Instruct-Turbo', 'system_fingerprint': None, 'finish_reason': 'eos', 'logprobs': None}, id='run-ac6324f3-df58-46ff-8c62-0eed0ad8ddc4-0', usage_metadata={'input_tokens': 55, 'output_tokens': 9, 'total_tokens': 64, 'input_token_details': {}, 'output_token_details': {}})"
      ]
     },
     "execution_count": 5,
     "metadata": {},
     "output_type": "execute_result"
    }
   ],
   "source": [
    "import os\n",
    "from dotenv import load_dotenv\n",
    "from langchain_together import ChatTogether\n",
    "\n",
    "load_dotenv(override=True)\n",
    "\n",
    "llm = ChatTogether(api_key=os.getenv(\"TOGETHER_API_KEY\"), temperature=0.0, model=\"meta-llama/Meta-Llama-3.1-8B-Instruct-Turbo\")\n",
    "\n",
    "messages = [\n",
    "    (\n",
    "        \"system\",\n",
    "        \"You are a helpful assistant that translates English to French. Translate the user sentence.\",\n",
    "    ),\n",
    "    (\n",
    "        \"human\",\n",
    "        \"I love apples\",\n",
    "    )\n",
    "]\n",
    "\n",
    "ai_msg = llm.invoke(messages)\n",
    "ai_msg"
   ]
  },
  {
   "cell_type": "code",
   "execution_count": 6,
   "metadata": {},
   "outputs": [
    {
     "data": {
      "text/plain": [
       "\"Je t'aime les pommes.\""
      ]
     },
     "execution_count": 6,
     "metadata": {},
     "output_type": "execute_result"
    }
   ],
   "source": [
    "ai_msg.content"
   ]
  },
  {
   "cell_type": "markdown",
   "metadata": {},
   "source": [
    "Using chains in Langchain"
   ]
  },
  {
   "cell_type": "code",
   "execution_count": 7,
   "metadata": {},
   "outputs": [],
   "source": [
    "from langchain.chains.router import MultiPromptChain # for creating a chain with multiple prompts\n",
    "from langchain.chains.router.llm_router import LLMRouterChain, RouterOutputParser # for routing logic in LLM chains\n",
    "from langchain.prompts import PromptTemplate, ChatPromptTemplate\n",
    "from langchain import LLMChain"
   ]
  },
  {
   "cell_type": "code",
   "execution_count": 8,
   "metadata": {},
   "outputs": [],
   "source": [
    "# Define templates for handling different types of queries\n",
    "\n",
    "flight_status_template = \"\"\"You are a helpful airline customer service representative.\n",
    "Answer the following query about flight status. Provide accurate, concise, and friendly information.\n",
    "Here is the query:\n",
    "{input}\"\"\"\n",
    "\n",
    "baggage_inquiry_template = \"\"\"You are a knowledgeable airline customer service representative.\n",
    "Provide information regarding baggage policies, lost baggage, or baggage fees.\n",
    "Here is the query:\n",
    "{input}\"\"\"\n",
    "\n",
    "ticket_booking_template = \"\"\"You are an airline booking agent. Assist\n",
    "the customer in booking, modifying, or canceling a flight.\n",
    "Here is the request:\n",
    "{input}\"\"\"\n",
    "\n",
    "general_inquiry_template = \"\"\"You are a customer service representative at an airline.\n",
    "Answer the following general inquiry about the airline, its services, or policies.\n",
    "Here is the question:\n",
    "{input}\"\"\""
   ]
  },
  {
   "cell_type": "code",
   "execution_count": 9,
   "metadata": {},
   "outputs": [],
   "source": [
    "# Define prompt info for different routes\n",
    "\n",
    "prompt_infos = [\n",
    "    {\n",
    "        \"name\": \"flight_status\",\n",
    "        \"description\": \"Handles inquiries related to flight status.\",\n",
    "        \"prompt_template\": flight_status_template\n",
    "    },\n",
    "    {\n",
    "        \"name\": \"baggage_inquiry\",\n",
    "        \"description\": \"Good for responding to questions about baggage, including fees and lost items.\",\n",
    "        \"prompt_template\": baggage_inquiry_template\n",
    "    },\n",
    "    {\n",
    "        \"name\": \"ticket_booking\",\n",
    "        \"description\": \"Handles ticket booking, modification or cancellation requests.\",\n",
    "        \"prompt_template\": ticket_booking_template\n",
    "    },\n",
    "    {\n",
    "        \"name\": \"general_inquiry\",\n",
    "        \"description\": \"Good for answering general inquiries about the airline or its services or handling feedbacks.\",\n",
    "        \"prompt_template\": general_inquiry_template\n",
    "    }\n",
    "]"
   ]
  },
  {
   "cell_type": "code",
   "execution_count": 11,
   "metadata": {},
   "outputs": [],
   "source": [
    "# Create a chain destination for each feedback type in dictionary (destination_chains)\n",
    "# Each chain is created by combining the ChatPromptTemplate with LLMChain\n",
    "\n",
    "destination_chains = {}\n",
    "\n",
    "for p_info in prompt_infos:\n",
    "    name = p_info[\"name\"]\n",
    "    prompt_template = p_info[\"prompt_template\"]\n",
    "    prompt = ChatPromptTemplate.from_template(template=prompt_template)\n",
    "    chain = LLMChain(llm=llm, prompt=prompt)\n",
    "    destination_chains[name] = chain\n",
    "\n",
    "# Create destinations string for router template\n",
    "destinations = [f\"{p[\"name\"]}: {p[\"description\"]}\" for p in prompt_infos]\n",
    "destinations_str = \"\\n\".join(destinations)"
   ]
  },
  {
   "cell_type": "markdown",
   "metadata": {},
   "source": [
    "Router chains"
   ]
  },
  {
   "cell_type": "code",
   "execution_count": 15,
   "metadata": {},
   "outputs": [
    {
     "name": "stderr",
     "output_type": "stream",
     "text": [
      "<>:6: SyntaxWarning: invalid escape sequence '\\ '\n",
      "<>:6: SyntaxWarning: invalid escape sequence '\\ '\n",
      "/var/folders/_6/sw6vhpc10411wn4lc23xd4t80000gn/T/ipykernel_50193/3373844381.py:6: SyntaxWarning: invalid escape sequence '\\ '\n",
      "  MULTI_PROMPT_ROUTER_TEMPLATE = \"\"\"Given a raw text input, select the prompt best suited for the input.\n"
     ]
    }
   ],
   "source": [
    "# Create a fallback hain for queries that do not fit specific category\n",
    "default_prompt = ChatPromptTemplate.from_template(\"reply to this {input} gracefully\")\n",
    "default_chain = LLMChain(llm=llm, prompt=default_prompt)\n",
    "\n",
    "# Define router template\n",
    "MULTI_PROMPT_ROUTER_TEMPLATE = \"\"\"Given a raw text input, select the prompt best suited for the input. \n",
    "You will be given the names of the available prompts and a description of what the prompt is best suited for.\n",
    "\n",
    "<< FORMATTING >>\n",
    "Return a markdown code snippet with a JSON object formatted to look like:\n",
    "```json\n",
    "{{{{\n",
    "    \"destination\": string \\ name of the prompt to use or \"DEFAULT\"\n",
    "    \"next_inputs\": string \\ original input\n",
    "}}}}\n",
    "<< CANDIDATE PROMPTS >> {destinations}\n",
    "\n",
    "<< INPUT >> {{input}}\n",
    "\n",
    "<< OUTPUT (remember to include the ```json)>>\n",
    "\"\"\""
   ]
  },
  {
   "cell_type": "code",
   "execution_count": 16,
   "metadata": {},
   "outputs": [],
   "source": [
    "router_template = MULTI_PROMPT_ROUTER_TEMPLATE.format(destinations=destinations_str)\n",
    "router_prompt = PromptTemplate(template=router_template, input_variables=[\"input\"], output_parser=RouterOutputParser())\n",
    "router_chain = LLMRouterChain.from_llm(llm, router_prompt)"
   ]
  },
  {
   "cell_type": "markdown",
   "metadata": {},
   "source": [
    "Combining chains"
   ]
  },
  {
   "cell_type": "code",
   "execution_count": 17,
   "metadata": {},
   "outputs": [
    {
     "name": "stderr",
     "output_type": "stream",
     "text": [
      "/var/folders/_6/sw6vhpc10411wn4lc23xd4t80000gn/T/ipykernel_50193/723251918.py:1: LangChainDeprecationWarning: Use RunnableLambda to select from multiple prompt templates. See example in API reference: https://api.python.langchain.com/en/latest/chains/langchain.chains.router.multi_prompt.MultiPromptChain.html\n",
      "  chain = MultiPromptChain(router_chain=router_chain, destination_chains=destination_chains, default_chain=default_chain, verbose=True)\n"
     ]
    }
   ],
   "source": [
    "chain = MultiPromptChain(router_chain=router_chain, destination_chains=destination_chains, default_chain=default_chain, verbose=True)"
   ]
  },
  {
   "cell_type": "code",
   "execution_count": 18,
   "metadata": {},
   "outputs": [
    {
     "name": "stdout",
     "output_type": "stream",
     "text": [
      "\n",
      "\n",
      "\u001b[1m> Entering new MultiPromptChain chain...\u001b[0m\n",
      "flight_status: {'input': 'What is the current status of flight AA123?'}\n",
      "\u001b[1m> Finished chain.\u001b[0m\n"
     ]
    },
    {
     "data": {
      "text/plain": [
       "{'input': 'What is the current status of flight AA123?',\n",
       " 'text': \"I'd be happy to help you with the status of flight AA123. \\n\\nTo check the current status, I'll need to look up the flight information. Can you please tell me the departure and arrival cities for flight AA123, as well as the date of travel? This will help me provide you with the most accurate information.\"}"
      ]
     },
     "execution_count": 18,
     "metadata": {},
     "output_type": "execute_result"
    }
   ],
   "source": [
    "chain.invoke(\"What is the current status of flight AA123?\")"
   ]
  },
  {
   "cell_type": "code",
   "execution_count": 19,
   "metadata": {},
   "outputs": [
    {
     "name": "stdout",
     "output_type": "stream",
     "text": [
      "\n",
      "\n",
      "\u001b[1m> Entering new MultiPromptChain chain...\u001b[0m\n",
      "general_inquiry: {'input': \"Can you tell me about your airline's safety protocols?\"}\n",
      "\u001b[1m> Finished chain.\u001b[0m\n"
     ]
    },
    {
     "data": {
      "text/plain": [
       "{'input': \"Can you tell me about your airline's safety protocols?\",\n",
       " 'text': \"At [Airline Name], the safety of our passengers and crew is our top priority. We take every precaution to ensure that our flights are operated in a safe and secure environment.\\n\\nOur airline adheres to the highest safety standards set by the International Air Transport Association (IATA), the Federal Aviation Administration (FAA), and the European Aviation Safety Agency (EASA). We have a robust safety management system in place, which includes regular maintenance checks, crew training, and emergency preparedness procedures.\\n\\nHere are some of the key safety protocols we have in place:\\n\\n1. **Regular Aircraft Maintenance**: Our aircraft undergo regular maintenance checks, including daily pre-flight inspections, to ensure that every plane is airworthy before each flight.\\n2. **Crew Training**: Our pilots and cabin crew undergo rigorous training programs to prepare them for emergency situations, including evacuation procedures, first aid, and crisis management.\\n3. **Safety Equipment**: Our aircraft are equipped with state-of-the-art safety equipment, including emergency oxygen systems, fire suppression systems, and emergency exits.\\n4. **Emergency Procedures**: We have comprehensive emergency procedures in place, including evacuation drills, fire drills, and medical emergency response plans.\\n5. **Passenger Briefings**: Before every flight, our crew provides a safety briefing to all passengers, explaining the safety features of the aircraft, emergency exits, and what to do in case of an emergency.\\n6. **Crew Resource Management**: Our crew members are trained to work together as a team to ensure that every passenger is safe and secure during the flight.\\n7. **Safety Audits**: We conduct regular safety audits to identify areas for improvement and ensure that our safety protocols are up to date and effective.\\n\\nWe also have a dedicated safety team that monitors and reviews all safety-related incidents, and we take all necessary steps to prevent similar incidents from happening in the future.\\n\\nAt [Airline Name], we are committed to providing a safe and enjoyable travel experience for all our passengers. If you have any specific questions or concerns about our safety protocols, please don't hesitate to ask.\"}"
      ]
     },
     "execution_count": 19,
     "metadata": {},
     "output_type": "execute_result"
    }
   ],
   "source": [
    "chain.invoke(\"Can you tell me about your airline's safety protocols?\")"
   ]
  },
  {
   "cell_type": "code",
   "execution_count": 20,
   "metadata": {},
   "outputs": [
    {
     "name": "stdout",
     "output_type": "stream",
     "text": [
      "\n",
      "\n",
      "\u001b[1m> Entering new MultiPromptChain chain...\u001b[0m\n",
      "ticket_booking: {'input': 'How can I upgrade my flight ticket that is already booked?'}\n",
      "\u001b[1m> Finished chain.\u001b[0m\n"
     ]
    },
    {
     "data": {
      "text/plain": [
       "{'input': 'How can I upgrade my flight ticket that is already booked?',\n",
       " 'text': \"I'd be happy to help you upgrade your flight ticket. \\n\\nTo upgrade your flight ticket, I'll need to check a few things first. Can you please provide me with the following information:\\n\\n1. Your booking reference number or ticket number?\\n2. Your name as it appears on the ticket?\\n3. The flight number and date of travel?\\n4. The class of service you're currently booked in (economy, premium economy, business, or first class)?\\n5. The class of service you'd like to upgrade to?\\n\\nAdditionally, please note that upgrades are subject to availability and may incur an additional fee. I'll also need to check if there are any upgrade options available on your flight.\\n\\nOnce I have this information, I can check for upgrade options and let you know what's available.\"}"
      ]
     },
     "execution_count": 20,
     "metadata": {},
     "output_type": "execute_result"
    }
   ],
   "source": [
    "chain.invoke(\"How can I upgrade my flight ticket that is already booked?\")"
   ]
  },
  {
   "cell_type": "code",
   "execution_count": 22,
   "metadata": {},
   "outputs": [
    {
     "name": "stdout",
     "output_type": "stream",
     "text": [
      "\n",
      "\n",
      "\u001b[1m> Entering new MultiPromptChain chain...\u001b[0m\n",
      "baggage_inquiry: {'input': 'I could not find my baggage after arrival. What should I do?'}\n",
      "\u001b[1m> Finished chain.\u001b[0m\n"
     ]
    },
    {
     "data": {
      "text/plain": [
       "{'input': 'I could not find my baggage after arrival. What should I do?',\n",
       " 'text': \"I'm so sorry to hear that you're experiencing issues with your baggage. If you couldn't find your baggage after arrival, here's a step-by-step guide to help you resolve the issue:\\n\\n1. **Report the issue immediately**: As soon as you realize your baggage is missing, please report it to our airline's baggage claim area or to one of our staff members at the airport. You can also report it to our customer service desk or contact us through our mobile app or website.\\n2. **Provide your baggage claim tag**: When reporting the issue, please provide your baggage claim tag, which is usually attached to your baggage. This will help us identify your baggage and locate it.\\n3. **Fill out a Property Irregularity Report (PIR)**: Our staff will guide you through the process of filling out a PIR, which is a report that helps us track and locate your baggage. This report will also help us to investigate the cause of the delay or loss.\\n4. **Wait for assistance**: Our team will do their best to locate your baggage. If it's not found immediately, we'll keep searching and update you on the status.\\n5. **File a claim**: If your baggage is not found, you'll need to file a claim with us. We'll provide you with a claim form, which you'll need to fill out and submit. You'll also need to provide a police report if your baggage contains valuable items.\\n6. **Compensation**: If your baggage is not found, we'll provide compensation for the value of the items in your baggage, up to a certain limit (check your ticket or our website for the specific limit). We'll also provide a voucher for a replacement item or reimbursement for the cost of a new item.\\n7. **Follow up**: If your baggage is found, we'll contact you to arrange for its return. If it's not found, we'll keep you updated on the status of your claim and provide any necessary documentation for insurance purposes.\\n\\n**Additional tips**:\\n\\n* Make sure to check the baggage claim area thoroughly before leaving the airport.\\n* If you have a connecting flight, check with your airline for any baggage handling procedures.\\n* Keep a record of your baggage claim tag and any communication with our staff.\\n* If you have valuable or essential items in your baggage, consider purchasing travel insurance to cover against loss or damage.\\n\\nI hope this helps, and I'm here to assist you further if you have any questions or concerns. Can I provide you with a claim form or assist you in filing a claim?\"}"
      ]
     },
     "execution_count": 22,
     "metadata": {},
     "output_type": "execute_result"
    }
   ],
   "source": [
    "chain.invoke(\"I could not find my baggage after arrival. What should I do?\")"
   ]
  },
  {
   "cell_type": "code",
   "execution_count": null,
   "metadata": {},
   "outputs": [],
   "source": []
  }
 ],
 "metadata": {
  "kernelspec": {
   "display_name": "Python 3",
   "language": "python",
   "name": "python3"
  },
  "language_info": {
   "codemirror_mode": {
    "name": "ipython",
    "version": 3
   },
   "file_extension": ".py",
   "mimetype": "text/x-python",
   "name": "python",
   "nbconvert_exporter": "python",
   "pygments_lexer": "ipython3",
   "version": "3.12.6"
  }
 },
 "nbformat": 4,
 "nbformat_minor": 2
}
